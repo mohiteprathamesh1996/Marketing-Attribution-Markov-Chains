{
 "cells": [
  {
   "cell_type": "markdown",
   "metadata": {},
   "source": [
    "#### Importing packages"
   ]
  },
  {
   "cell_type": "code",
   "execution_count": 1,
   "metadata": {},
   "outputs": [],
   "source": [
    "import pandas as pd\n",
    "import numpy as np\n",
    "import matplotlib.pyplot as plt\n",
    "from tqdm import tqdm\n",
    "import seaborn as sns\n",
    "import random\n",
    "\n",
    "import warnings\n",
    "warnings.filterwarnings(\"ignore\")"
   ]
  },
  {
   "cell_type": "markdown",
   "metadata": {},
   "source": [
    "#### Load data"
   ]
  },
  {
   "cell_type": "code",
   "execution_count": 2,
   "metadata": {},
   "outputs": [],
   "source": [
    "df_attribution = pd.read_csv(\"attribution data.csv\")"
   ]
  },
  {
   "cell_type": "markdown",
   "metadata": {},
   "source": [
    "#### Sorting the data as per first touch"
   ]
  },
  {
   "cell_type": "code",
   "execution_count": 3,
   "metadata": {},
   "outputs": [
    {
     "data": {
      "text/html": [
       "<div>\n",
       "<style scoped>\n",
       "    .dataframe tbody tr th:only-of-type {\n",
       "        vertical-align: middle;\n",
       "    }\n",
       "\n",
       "    .dataframe tbody tr th {\n",
       "        vertical-align: top;\n",
       "    }\n",
       "\n",
       "    .dataframe thead th {\n",
       "        text-align: right;\n",
       "    }\n",
       "</style>\n",
       "<table border=\"1\" class=\"dataframe\">\n",
       "  <thead>\n",
       "    <tr style=\"text-align: right;\">\n",
       "      <th></th>\n",
       "      <th>cookie</th>\n",
       "      <th>time</th>\n",
       "      <th>interaction</th>\n",
       "      <th>conversion</th>\n",
       "      <th>conversion_value</th>\n",
       "      <th>channel</th>\n",
       "    </tr>\n",
       "  </thead>\n",
       "  <tbody>\n",
       "    <tr>\n",
       "      <th>0</th>\n",
       "      <td>00000FkCnDfDDf0iC97iC703B</td>\n",
       "      <td>2018-07-03 13:02:11+00:00</td>\n",
       "      <td>impression</td>\n",
       "      <td>0</td>\n",
       "      <td>0.0</td>\n",
       "      <td>Instagram</td>\n",
       "    </tr>\n",
       "    <tr>\n",
       "      <th>1</th>\n",
       "      <td>00000FkCnDfDDf0iC97iC703B</td>\n",
       "      <td>2018-07-17 19:15:07+00:00</td>\n",
       "      <td>impression</td>\n",
       "      <td>0</td>\n",
       "      <td>0.0</td>\n",
       "      <td>Online Display</td>\n",
       "    </tr>\n",
       "    <tr>\n",
       "      <th>2</th>\n",
       "      <td>00000FkCnDfDDf0iC97iC703B</td>\n",
       "      <td>2018-07-24 15:51:46+00:00</td>\n",
       "      <td>impression</td>\n",
       "      <td>0</td>\n",
       "      <td>0.0</td>\n",
       "      <td>Online Display</td>\n",
       "    </tr>\n",
       "    <tr>\n",
       "      <th>3</th>\n",
       "      <td>00000FkCnDfDDf0iC97iC703B</td>\n",
       "      <td>2018-07-29 07:44:51+00:00</td>\n",
       "      <td>impression</td>\n",
       "      <td>0</td>\n",
       "      <td>0.0</td>\n",
       "      <td>Online Display</td>\n",
       "    </tr>\n",
       "    <tr>\n",
       "      <th>4</th>\n",
       "      <td>0000nACkD9nFkBBDECD3ki00E</td>\n",
       "      <td>2018-07-03 09:44:57+00:00</td>\n",
       "      <td>impression</td>\n",
       "      <td>0</td>\n",
       "      <td>0.0</td>\n",
       "      <td>Paid Search</td>\n",
       "    </tr>\n",
       "  </tbody>\n",
       "</table>\n",
       "</div>"
      ],
      "text/plain": [
       "                      cookie                      time interaction  \\\n",
       "0  00000FkCnDfDDf0iC97iC703B 2018-07-03 13:02:11+00:00  impression   \n",
       "1  00000FkCnDfDDf0iC97iC703B 2018-07-17 19:15:07+00:00  impression   \n",
       "2  00000FkCnDfDDf0iC97iC703B 2018-07-24 15:51:46+00:00  impression   \n",
       "3  00000FkCnDfDDf0iC97iC703B 2018-07-29 07:44:51+00:00  impression   \n",
       "4  0000nACkD9nFkBBDECD3ki00E 2018-07-03 09:44:57+00:00  impression   \n",
       "\n",
       "   conversion  conversion_value         channel  \n",
       "0           0               0.0       Instagram  \n",
       "1           0               0.0  Online Display  \n",
       "2           0               0.0  Online Display  \n",
       "3           0               0.0  Online Display  \n",
       "4           0               0.0     Paid Search  "
      ]
     },
     "execution_count": 3,
     "metadata": {},
     "output_type": "execute_result"
    }
   ],
   "source": [
    "df_attribution[\"time\"] = pd.to_datetime(df_attribution[\"time\"])\n",
    "\n",
    "df_attribution = df_attribution.sort_values(by=[\"cookie\",\"time\"]).reset_index(drop=True)\n",
    "\n",
    "df_attribution = df_attribution.drop_duplicates().reset_index(drop=True)\n",
    "\n",
    "df_attribution.head()"
   ]
  },
  {
   "cell_type": "markdown",
   "metadata": {},
   "source": [
    "#### Who all converted?"
   ]
  },
  {
   "cell_type": "code",
   "execution_count": 4,
   "metadata": {},
   "outputs": [],
   "source": [
    "conversion = pd.DataFrame(df_attribution.groupby([\"cookie\"])[\"conversion\"].sum()).reset_index()"
   ]
  },
  {
   "cell_type": "markdown",
   "metadata": {},
   "source": [
    "#### Fetching transitions of all customers"
   ]
  },
  {
   "cell_type": "code",
   "execution_count": 5,
   "metadata": {},
   "outputs": [
    {
     "name": "stderr",
     "output_type": "stream",
     "text": [
      "100%|████████████████████████████████████████████████████████████████████████| 240108/240108 [2:04:46<00:00, 32.07it/s]\n"
     ]
    },
    {
     "data": {
      "text/html": [
       "<div>\n",
       "<style scoped>\n",
       "    .dataframe tbody tr th:only-of-type {\n",
       "        vertical-align: middle;\n",
       "    }\n",
       "\n",
       "    .dataframe tbody tr th {\n",
       "        vertical-align: top;\n",
       "    }\n",
       "\n",
       "    .dataframe thead th {\n",
       "        text-align: right;\n",
       "    }\n",
       "</style>\n",
       "<table border=\"1\" class=\"dataframe\">\n",
       "  <thead>\n",
       "    <tr style=\"text-align: right;\">\n",
       "      <th></th>\n",
       "      <th>cookie</th>\n",
       "      <th>trajectory</th>\n",
       "    </tr>\n",
       "  </thead>\n",
       "  <tbody>\n",
       "    <tr>\n",
       "      <th>0</th>\n",
       "      <td>00000FkCnDfDDf0iC97iC703B</td>\n",
       "      <td>[Instagram, Online Display, Online Display, On...</td>\n",
       "    </tr>\n",
       "    <tr>\n",
       "      <th>1</th>\n",
       "      <td>0000nACkD9nFkBBDECD3ki00E</td>\n",
       "      <td>[Paid Search, Paid Search, Paid Search, Paid S...</td>\n",
       "    </tr>\n",
       "    <tr>\n",
       "      <th>2</th>\n",
       "      <td>0003EfE37E93D0BC03iBhBBhF</td>\n",
       "      <td>[Paid Search, Paid Search, Paid Search, Paid S...</td>\n",
       "    </tr>\n",
       "    <tr>\n",
       "      <th>3</th>\n",
       "      <td>00073CFE3FoFCn70fBhB3kfon</td>\n",
       "      <td>[Instagram]</td>\n",
       "    </tr>\n",
       "    <tr>\n",
       "      <th>4</th>\n",
       "      <td>00079hhBkDF3k3kDkiFi9EFAD</td>\n",
       "      <td>[Paid Search]</td>\n",
       "    </tr>\n",
       "  </tbody>\n",
       "</table>\n",
       "</div>"
      ],
      "text/plain": [
       "                      cookie  \\\n",
       "0  00000FkCnDfDDf0iC97iC703B   \n",
       "1  0000nACkD9nFkBBDECD3ki00E   \n",
       "2  0003EfE37E93D0BC03iBhBBhF   \n",
       "3  00073CFE3FoFCn70fBhB3kfon   \n",
       "4  00079hhBkDF3k3kDkiFi9EFAD   \n",
       "\n",
       "                                          trajectory  \n",
       "0  [Instagram, Online Display, Online Display, On...  \n",
       "1  [Paid Search, Paid Search, Paid Search, Paid S...  \n",
       "2  [Paid Search, Paid Search, Paid Search, Paid S...  \n",
       "3                                        [Instagram]  \n",
       "4                                      [Paid Search]  "
      ]
     },
     "execution_count": 5,
     "metadata": {},
     "output_type": "execute_result"
    }
   ],
   "source": [
    "df_interaction = pd.DataFrame([(customer, \n",
    "                                list(df_attribution[\"channel\"][df_attribution[\"cookie\"]==customer]))\\\n",
    "                               \n",
    "                               for customer in tqdm(df_attribution[\"cookie\"].unique())], \n",
    "                              \n",
    "                              columns = [\"cookie\", \"trajectory\"])\n",
    "\n",
    "df_interaction.head()"
   ]
  },
  {
   "cell_type": "markdown",
   "metadata": {},
   "source": [
    "#### Defining trajectory based on whether customer converted or not"
   ]
  },
  {
   "cell_type": "code",
   "execution_count": 6,
   "metadata": {
    "scrolled": true
   },
   "outputs": [
    {
     "name": "stderr",
     "output_type": "stream",
     "text": [
      "100%|███████████████████████████████████████████████████████████████████████| 240108/240108 [00:08<00:00, 27794.61it/s]\n"
     ]
    },
    {
     "data": {
      "text/html": [
       "<div>\n",
       "<style scoped>\n",
       "    .dataframe tbody tr th:only-of-type {\n",
       "        vertical-align: middle;\n",
       "    }\n",
       "\n",
       "    .dataframe tbody tr th {\n",
       "        vertical-align: top;\n",
       "    }\n",
       "\n",
       "    .dataframe thead th {\n",
       "        text-align: right;\n",
       "    }\n",
       "</style>\n",
       "<table border=\"1\" class=\"dataframe\">\n",
       "  <thead>\n",
       "    <tr style=\"text-align: right;\">\n",
       "      <th></th>\n",
       "      <th>cookie</th>\n",
       "      <th>trajectory</th>\n",
       "      <th>conversion</th>\n",
       "      <th>trajectory_2</th>\n",
       "    </tr>\n",
       "  </thead>\n",
       "  <tbody>\n",
       "    <tr>\n",
       "      <th>0</th>\n",
       "      <td>00000FkCnDfDDf0iC97iC703B</td>\n",
       "      <td>[Instagram, Online Display, Online Display, On...</td>\n",
       "      <td>0</td>\n",
       "      <td>[Start, Instagram, Online Display, Online Disp...</td>\n",
       "    </tr>\n",
       "    <tr>\n",
       "      <th>1</th>\n",
       "      <td>0000nACkD9nFkBBDECD3ki00E</td>\n",
       "      <td>[Paid Search, Paid Search, Paid Search, Paid S...</td>\n",
       "      <td>0</td>\n",
       "      <td>[Start, Paid Search, Paid Search, Paid Search,...</td>\n",
       "    </tr>\n",
       "    <tr>\n",
       "      <th>2</th>\n",
       "      <td>0003EfE37E93D0BC03iBhBBhF</td>\n",
       "      <td>[Paid Search, Paid Search, Paid Search, Paid S...</td>\n",
       "      <td>0</td>\n",
       "      <td>[Start, Paid Search, Paid Search, Paid Search,...</td>\n",
       "    </tr>\n",
       "    <tr>\n",
       "      <th>3</th>\n",
       "      <td>00073CFE3FoFCn70fBhB3kfon</td>\n",
       "      <td>[Instagram]</td>\n",
       "      <td>0</td>\n",
       "      <td>[Start, Instagram, Not Converted]</td>\n",
       "    </tr>\n",
       "    <tr>\n",
       "      <th>4</th>\n",
       "      <td>00079hhBkDF3k3kDkiFi9EFAD</td>\n",
       "      <td>[Paid Search]</td>\n",
       "      <td>0</td>\n",
       "      <td>[Start, Paid Search, Not Converted]</td>\n",
       "    </tr>\n",
       "  </tbody>\n",
       "</table>\n",
       "</div>"
      ],
      "text/plain": [
       "                      cookie  \\\n",
       "0  00000FkCnDfDDf0iC97iC703B   \n",
       "1  0000nACkD9nFkBBDECD3ki00E   \n",
       "2  0003EfE37E93D0BC03iBhBBhF   \n",
       "3  00073CFE3FoFCn70fBhB3kfon   \n",
       "4  00079hhBkDF3k3kDkiFi9EFAD   \n",
       "\n",
       "                                          trajectory  conversion  \\\n",
       "0  [Instagram, Online Display, Online Display, On...           0   \n",
       "1  [Paid Search, Paid Search, Paid Search, Paid S...           0   \n",
       "2  [Paid Search, Paid Search, Paid Search, Paid S...           0   \n",
       "3                                        [Instagram]           0   \n",
       "4                                      [Paid Search]           0   \n",
       "\n",
       "                                        trajectory_2  \n",
       "0  [Start, Instagram, Online Display, Online Disp...  \n",
       "1  [Start, Paid Search, Paid Search, Paid Search,...  \n",
       "2  [Start, Paid Search, Paid Search, Paid Search,...  \n",
       "3                  [Start, Instagram, Not Converted]  \n",
       "4                [Start, Paid Search, Not Converted]  "
      ]
     },
     "execution_count": 6,
     "metadata": {},
     "output_type": "execute_result"
    }
   ],
   "source": [
    "df_interaction = df_interaction.merge(conversion, on=\"cookie\", how=\"left\")\n",
    "\n",
    "df_interaction[\"trajectory_2\"] = [[\"Start\"]+df_interaction[\"trajectory\"][i]+[\"Converted\"]\\\n",
    "                                  \n",
    "                                  if df_interaction[\"conversion\"][i]==1 \\\n",
    "                                  \n",
    "                                  else [\"Start\"]+df_interaction[\"trajectory\"][i]+[\"Not Converted\"]\\\n",
    "                                  \n",
    "                                  for i in tqdm(range(len(df_interaction[\"conversion\"])))]\n",
    "\n",
    "df_interaction.head()"
   ]
  },
  {
   "cell_type": "markdown",
   "metadata": {},
   "source": [
    "#### Concatenating the trantition matrix"
   ]
  },
  {
   "cell_type": "code",
   "execution_count": 7,
   "metadata": {},
   "outputs": [
    {
     "name": "stderr",
     "output_type": "stream",
     "text": [
      "100%|█████████████████████████████████████████████████████████████████████████| 240108/240108 [18:29<00:00, 216.32it/s]\n"
     ]
    },
    {
     "data": {
      "text/html": [
       "<div>\n",
       "<style scoped>\n",
       "    .dataframe tbody tr th:only-of-type {\n",
       "        vertical-align: middle;\n",
       "    }\n",
       "\n",
       "    .dataframe tbody tr th {\n",
       "        vertical-align: top;\n",
       "    }\n",
       "\n",
       "    .dataframe thead tr th {\n",
       "        text-align: left;\n",
       "    }\n",
       "\n",
       "    .dataframe thead tr:last-of-type th {\n",
       "        text-align: right;\n",
       "    }\n",
       "</style>\n",
       "<table border=\"1\" class=\"dataframe\">\n",
       "  <thead>\n",
       "    <tr>\n",
       "      <th></th>\n",
       "      <th colspan=\"7\" halign=\"left\">count</th>\n",
       "    </tr>\n",
       "    <tr>\n",
       "      <th>shift</th>\n",
       "      <th>Converted</th>\n",
       "      <th>Facebook</th>\n",
       "      <th>Instagram</th>\n",
       "      <th>Not Converted</th>\n",
       "      <th>Online Display</th>\n",
       "      <th>Online Video</th>\n",
       "      <th>Paid Search</th>\n",
       "    </tr>\n",
       "    <tr>\n",
       "      <th>0</th>\n",
       "      <th></th>\n",
       "      <th></th>\n",
       "      <th></th>\n",
       "      <th></th>\n",
       "      <th></th>\n",
       "      <th></th>\n",
       "      <th></th>\n",
       "    </tr>\n",
       "  </thead>\n",
       "  <tbody>\n",
       "    <tr>\n",
       "      <th>Facebook</th>\n",
       "      <td>0.040167</td>\n",
       "      <td>0.178836</td>\n",
       "      <td>0.122557</td>\n",
       "      <td>0.566620</td>\n",
       "      <td>0.023078</td>\n",
       "      <td>0.026842</td>\n",
       "      <td>0.041900</td>\n",
       "    </tr>\n",
       "    <tr>\n",
       "      <th>Instagram</th>\n",
       "      <td>0.035876</td>\n",
       "      <td>0.314195</td>\n",
       "      <td>0.078202</td>\n",
       "      <td>0.485997</td>\n",
       "      <td>0.021477</td>\n",
       "      <td>0.026062</td>\n",
       "      <td>0.038190</td>\n",
       "    </tr>\n",
       "    <tr>\n",
       "      <th>Online Display</th>\n",
       "      <td>0.038174</td>\n",
       "      <td>0.053143</td>\n",
       "      <td>0.023191</td>\n",
       "      <td>0.606250</td>\n",
       "      <td>0.182111</td>\n",
       "      <td>0.019017</td>\n",
       "      <td>0.078114</td>\n",
       "    </tr>\n",
       "    <tr>\n",
       "      <th>Online Video</th>\n",
       "      <td>0.044508</td>\n",
       "      <td>0.048132</td>\n",
       "      <td>0.019481</td>\n",
       "      <td>0.530832</td>\n",
       "      <td>0.013214</td>\n",
       "      <td>0.310395</td>\n",
       "      <td>0.033437</td>\n",
       "    </tr>\n",
       "    <tr>\n",
       "      <th>Paid Search</th>\n",
       "      <td>0.038931</td>\n",
       "      <td>0.059876</td>\n",
       "      <td>0.026228</td>\n",
       "      <td>0.586210</td>\n",
       "      <td>0.044081</td>\n",
       "      <td>0.028768</td>\n",
       "      <td>0.215906</td>\n",
       "    </tr>\n",
       "  </tbody>\n",
       "</table>\n",
       "</div>"
      ],
      "text/plain": [
       "                   count                                                   \\\n",
       "shift          Converted  Facebook Instagram Not Converted Online Display   \n",
       "0                                                                           \n",
       "Facebook        0.040167  0.178836  0.122557      0.566620       0.023078   \n",
       "Instagram       0.035876  0.314195  0.078202      0.485997       0.021477   \n",
       "Online Display  0.038174  0.053143  0.023191      0.606250       0.182111   \n",
       "Online Video    0.044508  0.048132  0.019481      0.530832       0.013214   \n",
       "Paid Search     0.038931  0.059876  0.026228      0.586210       0.044081   \n",
       "\n",
       "                                         \n",
       "shift          Online Video Paid Search  \n",
       "0                                        \n",
       "Facebook           0.026842    0.041900  \n",
       "Instagram          0.026062    0.038190  \n",
       "Online Display     0.019017    0.078114  \n",
       "Online Video       0.310395    0.033437  \n",
       "Paid Search        0.028768    0.215906  "
      ]
     },
     "execution_count": 7,
     "metadata": {},
     "output_type": "execute_result"
    }
   ],
   "source": [
    "e = []\n",
    "\n",
    "for i in tqdm(range(len(df_interaction[\"trajectory_2\"]))):\n",
    "    transitions = df_interaction[\"trajectory_2\"][i]\n",
    "\n",
    "    df = pd.DataFrame(transitions)\n",
    "\n",
    "    # create a new column with data shifted one space\n",
    "    df['shift'] = df[0].shift(-1)\n",
    "\n",
    "    # add a count column (for group by function)\n",
    "    df['count'] = 1\n",
    "\n",
    "    # groupby and then unstack, fill the zeros\n",
    "    trans_mat = df.groupby([0, 'shift']).count().unstack().fillna(0)\n",
    "\n",
    "    # normalise by occurences and save values to get transition matrix\n",
    "    trans_mat = trans_mat.div(trans_mat.sum(axis=1), axis=0)\n",
    "    \n",
    "    e.append(trans_mat)\n",
    "\n",
    "    \n",
    "    \n",
    "transition_matrix = pd.concat(e).fillna(0).groupby(level=0).mean()\n",
    "\n",
    "transition_matrix.head()"
   ]
  },
  {
   "cell_type": "code",
   "execution_count": 32,
   "metadata": {},
   "outputs": [],
   "source": [
    "transition_matrix = transition_matrix[\"count\"].reset_index()\n",
    "\n",
    "transition_matrix[\"Start\"] = 0\n",
    "\n",
    "transition_matrix = pd.concat([transition_matrix,\n",
    "                               pd.DataFrame([[\"Converted\", 1,0,0,0,0,0,0,0,],\n",
    "                                             [\"Not Converted\", 0,0,0,1,0,0,0,0,]],\n",
    "                                            columns=list(transition_matrix.columns))]).reset_index(drop=True)\n",
    "\n",
    "transition_matrix.set_index(0, inplace=True)\n",
    "\n",
    "transition_matrix = transition_matrix[transition_matrix.index]"
   ]
  },
  {
   "cell_type": "markdown",
   "metadata": {},
   "source": [
    "#### Calculating future states based on transitions"
   ]
  },
  {
   "cell_type": "code",
   "execution_count": 131,
   "metadata": {},
   "outputs": [
    {
     "data": {
      "text/html": [
       "<div>\n",
       "<style scoped>\n",
       "    .dataframe tbody tr th:only-of-type {\n",
       "        vertical-align: middle;\n",
       "    }\n",
       "\n",
       "    .dataframe tbody tr th {\n",
       "        vertical-align: top;\n",
       "    }\n",
       "\n",
       "    .dataframe thead th {\n",
       "        text-align: right;\n",
       "    }\n",
       "</style>\n",
       "<table border=\"1\" class=\"dataframe\">\n",
       "  <thead>\n",
       "    <tr style=\"text-align: right;\">\n",
       "      <th></th>\n",
       "      <th>Facebook</th>\n",
       "      <th>Instagram</th>\n",
       "      <th>Online Display</th>\n",
       "      <th>Online Video</th>\n",
       "      <th>Paid Search</th>\n",
       "      <th>Start</th>\n",
       "      <th>Converted</th>\n",
       "      <th>Not Converted</th>\n",
       "    </tr>\n",
       "  </thead>\n",
       "  <tbody>\n",
       "    <tr>\n",
       "      <th>0</th>\n",
       "      <td>0.278408</td>\n",
       "      <td>0.119188</td>\n",
       "      <td>0.142644</td>\n",
       "      <td>0.142361</td>\n",
       "      <td>0.317399</td>\n",
       "      <td>0.0</td>\n",
       "      <td>0.000000</td>\n",
       "      <td>0.000000</td>\n",
       "    </tr>\n",
       "    <tr>\n",
       "      <th>1</th>\n",
       "      <td>0.120675</td>\n",
       "      <td>0.057848</td>\n",
       "      <td>0.050834</td>\n",
       "      <td>0.066611</td>\n",
       "      <td>0.100648</td>\n",
       "      <td>0.0</td>\n",
       "      <td>0.039597</td>\n",
       "      <td>0.563787</td>\n",
       "    </tr>\n",
       "    <tr>\n",
       "      <th>2</th>\n",
       "      <td>0.051690</td>\n",
       "      <td>0.024430</td>\n",
       "      <td>0.018602</td>\n",
       "      <td>0.029285</td>\n",
       "      <td>0.035194</td>\n",
       "      <td>0.0</td>\n",
       "      <td>0.055343</td>\n",
       "      <td>0.785456</td>\n",
       "    </tr>\n",
       "    <tr>\n",
       "      <th>3</th>\n",
       "      <td>0.021425</td>\n",
       "      <td>0.010170</td>\n",
       "      <td>0.007044</td>\n",
       "      <td>0.012480</td>\n",
       "      <td>0.013130</td>\n",
       "      <td>0.0</td>\n",
       "      <td>0.061680</td>\n",
       "      <td>0.874071</td>\n",
       "    </tr>\n",
       "    <tr>\n",
       "      <th>4</th>\n",
       "      <td>0.008788</td>\n",
       "      <td>0.004172</td>\n",
       "      <td>0.002739</td>\n",
       "      <td>0.005226</td>\n",
       "      <td>0.005088</td>\n",
       "      <td>0.0</td>\n",
       "      <td>0.064241</td>\n",
       "      <td>0.909746</td>\n",
       "    </tr>\n",
       "  </tbody>\n",
       "</table>\n",
       "</div>"
      ],
      "text/plain": [
       "   Facebook  Instagram  Online Display  Online Video  Paid Search  Start  \\\n",
       "0  0.278408   0.119188        0.142644      0.142361     0.317399    0.0   \n",
       "1  0.120675   0.057848        0.050834      0.066611     0.100648    0.0   \n",
       "2  0.051690   0.024430        0.018602      0.029285     0.035194    0.0   \n",
       "3  0.021425   0.010170        0.007044      0.012480     0.013130    0.0   \n",
       "4  0.008788   0.004172        0.002739      0.005226     0.005088    0.0   \n",
       "\n",
       "   Converted  Not Converted  \n",
       "0   0.000000       0.000000  \n",
       "1   0.039597       0.563787  \n",
       "2   0.055343       0.785456  \n",
       "3   0.061680       0.874071  \n",
       "4   0.064241       0.909746  "
      ]
     },
     "execution_count": 131,
     "metadata": {},
     "output_type": "execute_result"
    }
   ],
   "source": [
    "initial_state = np.array([0,0,0,0,0,1,0,0])\n",
    "\n",
    "future_states = []\n",
    "\n",
    "for i in range(10):\n",
    "    future_states.append(initial_state)\n",
    "    initial_state = np.dot(initial_state, transition_matrix.to_numpy())\n",
    "\n",
    "markovstates = pd.DataFrame(future_states[1:], columns=list(transition_matrix.index))\n",
    "\n",
    "markovstates.head()"
   ]
  },
  {
   "cell_type": "markdown",
   "metadata": {},
   "source": [
    "#### Plotting the conversion rate"
   ]
  },
  {
   "cell_type": "code",
   "execution_count": 138,
   "metadata": {},
   "outputs": [
    {
     "data": {
      "image/png": "[encoded data removed]",
      "text/plain": [
       "<Figure size 720x360 with 1 Axes>"
      ]
     },
     "metadata": {},
     "output_type": "display_data"
    }
   ],
   "source": [
    "sns.set_style(\"darkgrid\")\n",
    "\n",
    "plt.rcParams[\"figure.figsize\"] = (10, 5)\n",
    "plt.rcParams[\"font.size\"] = 14\n",
    "\n",
    "markovstates[[\"Converted\"]].plot()\n",
    "\n",
    "plt.xlabel(\"Weeks\")\n",
    "plt.ylabel(\"Attribution Proportions (%)\")\n",
    "\n",
    "plt.show()"
   ]
  },
  {
   "cell_type": "code",
   "execution_count": null,
   "metadata": {},
   "outputs": [],
   "source": []
  },
  {
   "cell_type": "code",
   "execution_count": null,
   "metadata": {},
   "outputs": [],
   "source": []
  },
  {
   "cell_type": "code",
   "execution_count": null,
   "metadata": {},
   "outputs": [],
   "source": []
  },
  {
   "cell_type": "code",
   "execution_count": null,
   "metadata": {},
   "outputs": [],
   "source": []
  },
  {
   "cell_type": "code",
   "execution_count": null,
   "metadata": {},
   "outputs": [],
   "source": []
  },
  {
   "cell_type": "code",
   "execution_count": null,
   "metadata": {},
   "outputs": [],
   "source": []
  }
 ],
 "metadata": {
  "kernelspec": {
   "display_name": "Python 3",
   "language": "python",
   "name": "python3"
  },
  "language_info": {
   "codemirror_mode": {
    "name": "ipython",
    "version": 3
   },
   "file_extension": ".py",
   "mimetype": "text/x-python",
   "name": "python",
   "nbconvert_exporter": "python",
   "pygments_lexer": "ipython3",
   "version": "3.8.3"
  }
 },
 "nbformat": 4,
 "nbformat_minor": 4
}
